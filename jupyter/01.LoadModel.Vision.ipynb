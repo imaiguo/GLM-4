{
 "cells": [
  {
   "cell_type": "markdown",
   "id": "fe9b10cc-aed2-4501-b1b4-3603c99e0a98",
   "metadata": {},
   "source": [
    "# glm 4v 9b"
   ]
  },
  {
   "cell_type": "markdown",
   "id": "29a64588-1299-4667-a967-0de7ed34dbf2",
   "metadata": {},
   "source": [
    "## 1 模型加载"
   ]
  },
  {
   "cell_type": "code",
   "execution_count": 1,
   "id": "01c445e6-fdde-4719-9144-cdba17c0d138",
   "metadata": {},
   "outputs": [
    {
     "name": "stderr",
     "output_type": "stream",
     "text": [
      "Special tokens have been added in the vocabulary, make sure the associated word embeddings are fine-tuned or trained.\n"
     ]
    },
    {
     "data": {
      "application/vnd.jupyter.widget-view+json": {
       "model_id": "bbb93e2317394e669e8865ec48d2dc60",
       "version_major": 2,
       "version_minor": 0
      },
      "text/plain": [
       "Loading checkpoint shards:   0%|          | 0/15 [00:00<?, ?it/s]"
      ]
     },
     "metadata": {},
     "output_type": "display_data"
    }
   ],
   "source": [
    "import os\n",
    "\n",
    "os.environ['CUDA_VISIBLE_DEVICES'] = '0,1'\n",
    "\n",
    "import torch\n",
    "from threading import Thread\n",
    "from transformers import (\n",
    "    AutoTokenizer,\n",
    "    StoppingCriteria,\n",
    "    StoppingCriteriaList,\n",
    "    TextIteratorStreamer, AutoModel, BitsAndBytesConfig\n",
    ")\n",
    "\n",
    "from PIL import Image\n",
    "\n",
    "MODEL_PATH = \"/opt/Data/ModelWeight/THUDM/glm-4v-9b\"\n",
    "\n",
    "tokenizer = AutoTokenizer.from_pretrained(\n",
    "    MODEL_PATH,\n",
    "    trust_remote_code=True,\n",
    "    encode_special_tokens=True\n",
    ")\n",
    "\n",
    "## For INT4 inference\n",
    "model = AutoModel.from_pretrained(\n",
    "    MODEL_PATH,\n",
    "    trust_remote_code=True,\n",
    "    device_map=\"auto\", # 多卡部署\n",
    "    quantization_config=BitsAndBytesConfig(load_in_4bit=True),\n",
    "    torch_dtype=torch.float32,\n",
    "    low_cpu_mem_usage=True\n",
    ").eval()\n",
    "\n",
    "class StopOnTokens(StoppingCriteria):\n",
    "    def __call__(self, input_ids: torch.LongTensor, scores: torch.FloatTensor, **kwargs) -> bool:\n",
    "        stop_ids = model.config.eos_token_id\n",
    "        for stop_id in stop_ids:\n",
    "            if input_ids[0][-1] == stop_id:\n",
    "                return True\n",
    "        return False"
   ]
  },
  {
   "cell_type": "markdown",
   "id": "7a06de83-9cb7-484b-92aa-0c8b4f693455",
   "metadata": {},
   "source": [
    "## 2 模型调用\n",
    "\n",
    "调用函数声明"
   ]
  },
  {
   "cell_type": "code",
   "execution_count": 17,
   "id": "cdf43c00-e6a8-47f0-ada2-00fa12194b6c",
   "metadata": {},
   "outputs": [],
   "source": [
    "def buildPrompt(user_input:str, history, image = None):\n",
    "    history.append([user_input, \"\"])\n",
    "    messages = []\n",
    "    for idx, (user_msg, model_msg) in enumerate(history):\n",
    "        if idx == len(history) - 1 and not model_msg:\n",
    "            messages.append({\"role\": \"user\", \"content\": user_msg})\n",
    "            if image:\n",
    "                messages[-1].update({\"image\": image})\n",
    "                uploaded = True\n",
    "            break\n",
    "    \n",
    "        if user_msg:\n",
    "            messages.append({\"role\": \"user\", \"content\": user_msg})\n",
    "    \n",
    "        if model_msg:\n",
    "            messages.append({\"role\": \"assistant\", \"content\": model_msg})\n",
    "\n",
    "    return messages"
   ]
  },
  {
   "cell_type": "code",
   "execution_count": 18,
   "id": "77058ca5-fec0-418c-a690-d1057f40dbb7",
   "metadata": {},
   "outputs": [],
   "source": [
    "def runChat(messages):    \n",
    "    model_inputs = tokenizer.apply_chat_template(\n",
    "        messages,\n",
    "        add_generation_prompt=True,\n",
    "        tokenize=True,\n",
    "        return_tensors=\"pt\",\n",
    "        return_dict=True\n",
    "    ).to(next(model.parameters()).device)\n",
    "    \n",
    "    streamer = TextIteratorStreamer(\n",
    "        tokenizer=tokenizer,\n",
    "        timeout=60,\n",
    "        skip_prompt=True,\n",
    "        skip_special_tokens=True\n",
    "    )\n",
    "    \n",
    "    generate_kwargs = {\n",
    "        **model_inputs,\n",
    "        \"streamer\": streamer,\n",
    "        \"max_new_tokens\": 4096,\n",
    "        \"do_sample\": True,\n",
    "        \"top_p\": 0.8,\n",
    "        \"temperature\": 0.6,\n",
    "        \"stopping_criteria\": StoppingCriteriaList([StopOnTokens()]),\n",
    "        \"repetition_penalty\": 1.2,\n",
    "        \"eos_token_id\": [151329, 151336, 151338],\n",
    "    }\n",
    "    \n",
    "    t = Thread(target=model.generate, kwargs=generate_kwargs)\n",
    "    t.start()\n",
    "    print(\"GLM-4V:\", end=\"\", flush=True)\n",
    "    \n",
    "    for new_token in streamer:\n",
    "        if new_token:\n",
    "            print(new_token, end=\"\", flush=True)\n",
    "            history[-1][1] += new_token\n",
    "    \n",
    "    history[-1][1] = history[-1][1].strip()"
   ]
  },
  {
   "cell_type": "markdown",
   "id": "f2a6fc77-a842-4003-89e2-9f7e5b7570ff",
   "metadata": {},
   "source": [
    "构建prompt 生成文本"
   ]
  },
  {
   "cell_type": "code",
   "execution_count": 20,
   "id": "adae9fbc-4d01-4e5b-80f9-60889c2da28d",
   "metadata": {},
   "outputs": [
    {
     "name": "stdout",
     "output_type": "stream",
     "text": [
      "GLM-4V:这是哆啦A梦，它是日本漫画《哆啦A梦》的主角。这只机器猫来自22世纪的未来世界，拥有许多神奇的道具帮助主人野比大雄解决各种问题。《哆啦A梦》自1969年首播以来深受全球观众喜爱。\n",
      "哆啦A梦以其圆圆的脸庞、蓝色的身体和红色的鼻子著称于世；它穿着一件黄色的铃铛挂在脖子上和一个红色领带（在一些版本中是蓝色）。这个角色以它的乐观态度和对朋友的忠诚而广受好评。\n",
      "\n",
      "除了作为一部著名的动画系列外，《哆啦A梦》还衍生出了多部电影、电视剧集以及一系列的玩具产品和其他媒体形式的产品开发项目。“哆啦A梦”已经成为一个国际性的文化现象和品牌标识的一部分。"
     ]
    }
   ],
   "source": [
    "history = []\n",
    "image = None\n",
    "image_path = \"/opt/WorkSpace/GLM-4/image/Doraemon.jpg\"\n",
    "try:\n",
    "    image = Image.open(image_path).convert(\"RGB\")\n",
    "except:\n",
    "    print(\"Invalid image path. Continuing with text conversation.\")\n",
    "\n",
    "\n",
    "user_input = \"这是什么？\"\n",
    "\n",
    "ms = buildPrompt(user_input, history, image)\n",
    "runChat(ms)"
   ]
  },
  {
   "cell_type": "code",
   "execution_count": 22,
   "id": "b3ef219c-fb7a-4359-a24c-82b757a86643",
   "metadata": {},
   "outputs": [
    {
     "name": "stdout",
     "output_type": "stream",
     "text": [
      "[['这是什么？', '这是哆啦A梦，它是日本漫画《哆啦A梦》的主角。这只机器猫来自22世纪的未来世界，拥有许多神奇的道具帮助主人野比大雄解决各种问题。《哆啦A梦》自1969年首播以来深受全球观众喜爱。\\n哆啦A梦以其圆圆的脸庞、蓝色的身体和红色的鼻子著称于世；它穿着一件黄色的铃铛挂在脖子上和一个红色领带（在一些版本中是蓝色）。这个角色以它的乐观态度和对朋友的忠诚而广受好评。\\n\\n除了作为一部著名的动画系列外，《哆啦A梦》还衍生出了多部电影、电视剧集以及一系列的玩具产品和其他媒体形式的产品开发项目。“哆啦A梦”已经成为一个国际性的文化现象和品牌标识的一部分。'], ['还有呢？', '图中展示的是一个哆啦A梦的表情包图片：\\n\\n- 哆啦A梦：一只蓝白色的卡通猫咪形象；\\n  - 来自未来的机器人猫；\\n  - 拥有四次元口袋和各种神奇道具；\\n  - 助助主人公野比大雄度过困境；\\n  \\n该表情包通过哆啦A梦的形象传达了积极向上、乐于助人的精神风貌和大雄与哆啦A梦之间的深厚友谊情感共鸣。']]\n",
      "GLM-4V:当然可以为您提供更多关于哆啦A梦的信息：\n",
      "1. **背景设定**：《哆啦A梦》（原名《ドラえもん》）是由藤本弘（笔名藤子·F·不二雄）创作的一部著名日本漫画作品，\n",
      "首次连载于1970年至1996年间。这部漫画讲述了从22世纪来到21世纪的机器猫哆啦A梦如何帮助他的朋友——小学生野比大雄克服困难的故事。\n",
      "2. **主要人物**：\n",
      "   - **哆啦A梦**：主角，是一只善良的机器猫，经常携带众多神奇的道具来帮助朋友们解决问题。\n",
      "   - **野比大雄**：哆啦A梦的朋友，因为常犯错误而被同学们嘲笑，但心地善良且努力上进。\n",
      "3. **特色道具**：哆啦A梦有许多神奇的道具，如“任意门”、“时光机”、“翻译面具”、\n",
      "“缩小灯”、“百宝袋”（四次元口袋）、“照相机电话”等这些道具反映了作者对未来科技的想象和创新思维，同时也给读者带来了无尽的想象力空间。\n",
      "4. **影响深远**：《哆啦A梦》不仅在日本国内取得了巨大成功，还在亚洲其他国家及世界各地赢得了广泛的粉丝群体。此外，根据原作改编的同名动画片也在全世界范围内播放并受到欢迎，“哆啦A梦”这一形象深入人心，成为了家喻户晓的文化符号之一"
     ]
    }
   ],
   "source": [
    "user_input = \"还有呢？\"\n",
    "print(history)\n",
    "ms = buildPrompt(user_input, history)\n",
    "runChat(ms)"
   ]
  }
 ],
 "metadata": {
  "kernelspec": {
   "display_name": "Python 3 (ipykernel)",
   "language": "python",
   "name": "python3"
  },
  "language_info": {
   "codemirror_mode": {
    "name": "ipython",
    "version": 3
   },
   "file_extension": ".py",
   "mimetype": "text/x-python",
   "name": "python",
   "nbconvert_exporter": "python",
   "pygments_lexer": "ipython3",
   "version": "3.11.2"
  }
 },
 "nbformat": 4,
 "nbformat_minor": 5
}
